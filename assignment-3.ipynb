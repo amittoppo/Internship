{
 "cells": [
  {
   "cell_type": "markdown",
   "id": "ccbd57ae",
   "metadata": {},
   "source": []
  },
  {
   "cell_type": "code",
   "execution_count": 218,
   "id": "d6b8a5db",
   "metadata": {},
   "outputs": [],
   "source": [
    "# Importing Libraries\n",
    "import selenium\n",
    "import pandas as pd\n",
    "import time\n",
    "from bs4 import BeautifulSoup\n",
    "import warnings\n",
    "warnings.filterwarnings(\"ignore\")\n",
    "\n",
    "# Importing selenium webdriver \n",
    "from selenium import webdriver\n",
    "\n",
    "# Importing required Exceptions which needs to handled\n",
    "from selenium.common.exceptions import StaleElementReferenceException, NoSuchElementException\n",
    "\n",
    "#Importing requests\n",
    "import requests\n",
    "\n",
    "# importing regex\n",
    "import re\n",
    "\n"
   ]
  },
  {
   "cell_type": "code",
   "execution_count": 219,
   "id": "ace95871",
   "metadata": {},
   "outputs": [],
   "source": [
    "PATH = 'C:/Users/amitt/Downloads/chromedriver_win32/chromedriver.exe'\n",
    "driver = webdriver.Chrome(PATH)"
   ]
  },
  {
   "cell_type": "markdown",
   "id": "39743c12",
   "metadata": {},
   "source": [
    "1. Write a python program which searches all the product under a particular product from www.amazon.in. The product to be searched will be taken as input from user. For e.g. If user input is ‘guitar’. Then search for guitars."
   ]
  },
  {
   "cell_type": "code",
   "execution_count": 220,
   "id": "02ada812",
   "metadata": {},
   "outputs": [
    {
     "name": "stdout",
     "output_type": "stream",
     "text": [
      "Enter the product you want to search: guitar\n"
     ]
    }
   ],
   "source": [
    "url = \"https://www.amazon.in/ref=nav_logo\"\n",
    "driver.get(url)\n",
    "driver.maximize_window()\n",
    "\n",
    "search_bar = driver.find_element_by_id(\"twotabsearchtextbox\")    # Locating searc_bar by id\n",
    "search_bar.clear()\n",
    "\n",
    "user_inp = input('Enter the product you want to search: ')           # taking input\n",
    "\n",
    "search_bar.send_keys(user_inp)                            # sending user input to search bar\n",
    "\n",
    "search_button = driver.find_element_by_xpath('//span[@id=\"nav-search-submit-text\"]')   # Locating search_button by xpath\n",
    "\n",
    "search_button.click()    # clicking the search button\n",
    "time.sleep(3)"
   ]
  },
  {
   "cell_type": "code",
   "execution_count": null,
   "id": "0f4e29f8",
   "metadata": {},
   "outputs": [],
   "source": []
  },
  {
   "cell_type": "markdown",
   "id": "6d1aad50",
   "metadata": {},
   "source": [
    "2. In the above question, now scrape the following details of each product listed in first 3 pages of your search results and save it in a data frame and csv. In case if any product has less than 3 pages in search results then scrape all the products available under that product name. Details to be scraped are: \"Brand Name\", \"Name of the Product\", \"Price\", \"Return/Exchange\", \"Expected Delivery\", \"Availability\" and “Product URL”. In case, if any of the details are missing for any of the product then replace it by “-“."
   ]
  },
  {
   "cell_type": "code",
   "execution_count": 221,
   "id": "778252e1",
   "metadata": {},
   "outputs": [],
   "source": [
    "# fetching url for each product\n",
    "prod_url = []\n",
    "url = driver.find_elements_by_xpath('//a[@class=\"a-link-normal s-underline-text s-underline-link-text s-link-style a-text-normal\"]')\n",
    "for i in url:\n",
    "    prod_url.append(i.get_attribute('href'))"
   ]
  },
  {
   "cell_type": "code",
   "execution_count": 231,
   "id": "9b00fb24",
   "metadata": {},
   "outputs": [
    {
     "ename": "WebDriverException",
     "evalue": "Message: chrome not reachable\n  (Session info: chrome=99.0.4844.51)\nStacktrace:\nBacktrace:\n\tOrdinal0 [0x00BA9943+2595139]\n\tOrdinal0 [0x00B3C9F1+2148849]\n\tOrdinal0 [0x00A343F0+1065968]\n\tOrdinal0 [0x00A287C2+1017794]\n\tOrdinal0 [0x00A28FF8+1019896]\n\tOrdinal0 [0x00A2A892+1026194]\n\tOrdinal0 [0x00A24219+999961]\n\tOrdinal0 [0x00A35860+1071200]\n\tOrdinal0 [0x00A8B2D2+1422034]\n\tOrdinal0 [0x00A7B806+1357830]\n\tOrdinal0 [0x00A56086+1204358]\n\tOrdinal0 [0x00A56F96+1208214]\n\tGetHandleVerifier [0x00D4B232+1658114]\n\tGetHandleVerifier [0x00E0312C+2411516]\n\tGetHandleVerifier [0x00C3F261+560433]\n\tGetHandleVerifier [0x00C3E366+556598]\n\tOrdinal0 [0x00B4286B+2173035]\n\tOrdinal0 [0x00B475F8+2192888]\n\tOrdinal0 [0x00B476E5+2193125]\n\tOrdinal0 [0x00B511FC+2232828]\n\tBaseThreadInitThunk [0x766AFA29+25]\n\tRtlGetAppContainerNamedObjectPath [0x772E7A9E+286]\n\tRtlGetAppContainerNamedObjectPath [0x772E7A6E+238]\n",
     "output_type": "error",
     "traceback": [
      "\u001b[1;31m---------------------------------------------------------------------------\u001b[0m",
      "\u001b[1;31mWebDriverException\u001b[0m                        Traceback (most recent call last)",
      "\u001b[1;32m~\\AppData\\Local\\Temp/ipykernel_13596/1679139582.py\u001b[0m in \u001b[0;36m<module>\u001b[1;34m\u001b[0m\n\u001b[0;32m     11\u001b[0m \u001b[1;33m\u001b[0m\u001b[0m\n\u001b[0;32m     12\u001b[0m     \u001b[1;32mtry\u001b[0m\u001b[1;33m:\u001b[0m\u001b[1;33m\u001b[0m\u001b[1;33m\u001b[0m\u001b[0m\n\u001b[1;32m---> 13\u001b[1;33m         \u001b[0mdetail\u001b[0m \u001b[1;33m=\u001b[0m \u001b[0mdriver\u001b[0m\u001b[1;33m.\u001b[0m\u001b[0mfind_element_by_xpath\u001b[0m\u001b[1;33m(\u001b[0m\u001b[1;34m'/html/body/div[2]/div[2]/div[5]/div[4]/div[4]/div[1]/div/h1/span'\u001b[0m\u001b[1;33m)\u001b[0m\u001b[1;33m\u001b[0m\u001b[1;33m\u001b[0m\u001b[0m\n\u001b[0m\u001b[0;32m     14\u001b[0m         \u001b[0mname\u001b[0m\u001b[1;33m.\u001b[0m\u001b[0mappend\u001b[0m\u001b[1;33m(\u001b[0m\u001b[0mdetail\u001b[0m\u001b[1;33m.\u001b[0m\u001b[0mtext\u001b[0m\u001b[1;33m)\u001b[0m\u001b[1;33m\u001b[0m\u001b[1;33m\u001b[0m\u001b[0m\n\u001b[0;32m     15\u001b[0m     \u001b[1;32mexcept\u001b[0m \u001b[0mNoSuchElementException\u001b[0m \u001b[1;33m:\u001b[0m\u001b[1;33m\u001b[0m\u001b[1;33m\u001b[0m\u001b[0m\n",
      "\u001b[1;32mC:\\ProgramData\\Anaconda3\\lib\\site-packages\\selenium\\webdriver\\remote\\webdriver.py\u001b[0m in \u001b[0;36mfind_element_by_xpath\u001b[1;34m(self, xpath)\u001b[0m\n\u001b[0;32m    518\u001b[0m             \u001b[0mstacklevel\u001b[0m\u001b[1;33m=\u001b[0m\u001b[1;36m2\u001b[0m\u001b[1;33m,\u001b[0m\u001b[1;33m\u001b[0m\u001b[1;33m\u001b[0m\u001b[0m\n\u001b[0;32m    519\u001b[0m         )\n\u001b[1;32m--> 520\u001b[1;33m         \u001b[1;32mreturn\u001b[0m \u001b[0mself\u001b[0m\u001b[1;33m.\u001b[0m\u001b[0mfind_element\u001b[0m\u001b[1;33m(\u001b[0m\u001b[0mby\u001b[0m\u001b[1;33m=\u001b[0m\u001b[0mBy\u001b[0m\u001b[1;33m.\u001b[0m\u001b[0mXPATH\u001b[0m\u001b[1;33m,\u001b[0m \u001b[0mvalue\u001b[0m\u001b[1;33m=\u001b[0m\u001b[0mxpath\u001b[0m\u001b[1;33m)\u001b[0m\u001b[1;33m\u001b[0m\u001b[1;33m\u001b[0m\u001b[0m\n\u001b[0m\u001b[0;32m    521\u001b[0m \u001b[1;33m\u001b[0m\u001b[0m\n\u001b[0;32m    522\u001b[0m     \u001b[1;32mdef\u001b[0m \u001b[0mfind_elements_by_xpath\u001b[0m\u001b[1;33m(\u001b[0m\u001b[0mself\u001b[0m\u001b[1;33m,\u001b[0m \u001b[0mxpath\u001b[0m\u001b[1;33m)\u001b[0m \u001b[1;33m->\u001b[0m \u001b[0mWebElement\u001b[0m\u001b[1;33m:\u001b[0m\u001b[1;33m\u001b[0m\u001b[1;33m\u001b[0m\u001b[0m\n",
      "\u001b[1;32mC:\\ProgramData\\Anaconda3\\lib\\site-packages\\selenium\\webdriver\\remote\\webdriver.py\u001b[0m in \u001b[0;36mfind_element\u001b[1;34m(self, by, value)\u001b[0m\n\u001b[0;32m   1242\u001b[0m             \u001b[0mvalue\u001b[0m \u001b[1;33m=\u001b[0m \u001b[1;34m'[name=\"%s\"]'\u001b[0m \u001b[1;33m%\u001b[0m \u001b[0mvalue\u001b[0m\u001b[1;33m\u001b[0m\u001b[1;33m\u001b[0m\u001b[0m\n\u001b[0;32m   1243\u001b[0m \u001b[1;33m\u001b[0m\u001b[0m\n\u001b[1;32m-> 1244\u001b[1;33m         return self.execute(Command.FIND_ELEMENT, {\n\u001b[0m\u001b[0;32m   1245\u001b[0m             \u001b[1;34m'using'\u001b[0m\u001b[1;33m:\u001b[0m \u001b[0mby\u001b[0m\u001b[1;33m,\u001b[0m\u001b[1;33m\u001b[0m\u001b[1;33m\u001b[0m\u001b[0m\n\u001b[0;32m   1246\u001b[0m             'value': value})['value']\n",
      "\u001b[1;32mC:\\ProgramData\\Anaconda3\\lib\\site-packages\\selenium\\webdriver\\remote\\webdriver.py\u001b[0m in \u001b[0;36mexecute\u001b[1;34m(self, driver_command, params)\u001b[0m\n\u001b[0;32m    422\u001b[0m         \u001b[0mresponse\u001b[0m \u001b[1;33m=\u001b[0m \u001b[0mself\u001b[0m\u001b[1;33m.\u001b[0m\u001b[0mcommand_executor\u001b[0m\u001b[1;33m.\u001b[0m\u001b[0mexecute\u001b[0m\u001b[1;33m(\u001b[0m\u001b[0mdriver_command\u001b[0m\u001b[1;33m,\u001b[0m \u001b[0mparams\u001b[0m\u001b[1;33m)\u001b[0m\u001b[1;33m\u001b[0m\u001b[1;33m\u001b[0m\u001b[0m\n\u001b[0;32m    423\u001b[0m         \u001b[1;32mif\u001b[0m \u001b[0mresponse\u001b[0m\u001b[1;33m:\u001b[0m\u001b[1;33m\u001b[0m\u001b[1;33m\u001b[0m\u001b[0m\n\u001b[1;32m--> 424\u001b[1;33m             \u001b[0mself\u001b[0m\u001b[1;33m.\u001b[0m\u001b[0merror_handler\u001b[0m\u001b[1;33m.\u001b[0m\u001b[0mcheck_response\u001b[0m\u001b[1;33m(\u001b[0m\u001b[0mresponse\u001b[0m\u001b[1;33m)\u001b[0m\u001b[1;33m\u001b[0m\u001b[1;33m\u001b[0m\u001b[0m\n\u001b[0m\u001b[0;32m    425\u001b[0m             response['value'] = self._unwrap_value(\n\u001b[0;32m    426\u001b[0m                 response.get('value', None))\n",
      "\u001b[1;32mC:\\ProgramData\\Anaconda3\\lib\\site-packages\\selenium\\webdriver\\remote\\errorhandler.py\u001b[0m in \u001b[0;36mcheck_response\u001b[1;34m(self, response)\u001b[0m\n\u001b[0;32m    245\u001b[0m                 \u001b[0malert_text\u001b[0m \u001b[1;33m=\u001b[0m \u001b[0mvalue\u001b[0m\u001b[1;33m[\u001b[0m\u001b[1;34m'alert'\u001b[0m\u001b[1;33m]\u001b[0m\u001b[1;33m.\u001b[0m\u001b[0mget\u001b[0m\u001b[1;33m(\u001b[0m\u001b[1;34m'text'\u001b[0m\u001b[1;33m)\u001b[0m\u001b[1;33m\u001b[0m\u001b[1;33m\u001b[0m\u001b[0m\n\u001b[0;32m    246\u001b[0m             \u001b[1;32mraise\u001b[0m \u001b[0mexception_class\u001b[0m\u001b[1;33m(\u001b[0m\u001b[0mmessage\u001b[0m\u001b[1;33m,\u001b[0m \u001b[0mscreen\u001b[0m\u001b[1;33m,\u001b[0m \u001b[0mstacktrace\u001b[0m\u001b[1;33m,\u001b[0m \u001b[0malert_text\u001b[0m\u001b[1;33m)\u001b[0m  \u001b[1;31m# type: ignore[call-arg]  # mypy is not smart enough here\u001b[0m\u001b[1;33m\u001b[0m\u001b[1;33m\u001b[0m\u001b[0m\n\u001b[1;32m--> 247\u001b[1;33m         \u001b[1;32mraise\u001b[0m \u001b[0mexception_class\u001b[0m\u001b[1;33m(\u001b[0m\u001b[0mmessage\u001b[0m\u001b[1;33m,\u001b[0m \u001b[0mscreen\u001b[0m\u001b[1;33m,\u001b[0m \u001b[0mstacktrace\u001b[0m\u001b[1;33m)\u001b[0m\u001b[1;33m\u001b[0m\u001b[1;33m\u001b[0m\u001b[0m\n\u001b[0m\u001b[0;32m    248\u001b[0m \u001b[1;33m\u001b[0m\u001b[0m\n\u001b[0;32m    249\u001b[0m     \u001b[1;32mdef\u001b[0m \u001b[0m_value_or_default\u001b[0m\u001b[1;33m(\u001b[0m\u001b[0mself\u001b[0m\u001b[1;33m,\u001b[0m \u001b[0mobj\u001b[0m\u001b[1;33m:\u001b[0m \u001b[0mMapping\u001b[0m\u001b[1;33m[\u001b[0m\u001b[0m_KT\u001b[0m\u001b[1;33m,\u001b[0m \u001b[0m_VT\u001b[0m\u001b[1;33m]\u001b[0m\u001b[1;33m,\u001b[0m \u001b[0mkey\u001b[0m\u001b[1;33m:\u001b[0m \u001b[0m_KT\u001b[0m\u001b[1;33m,\u001b[0m \u001b[0mdefault\u001b[0m\u001b[1;33m:\u001b[0m \u001b[0m_VT\u001b[0m\u001b[1;33m)\u001b[0m \u001b[1;33m->\u001b[0m \u001b[0m_VT\u001b[0m\u001b[1;33m:\u001b[0m\u001b[1;33m\u001b[0m\u001b[1;33m\u001b[0m\u001b[0m\n",
      "\u001b[1;31mWebDriverException\u001b[0m: Message: chrome not reachable\n  (Session info: chrome=99.0.4844.51)\nStacktrace:\nBacktrace:\n\tOrdinal0 [0x00BA9943+2595139]\n\tOrdinal0 [0x00B3C9F1+2148849]\n\tOrdinal0 [0x00A343F0+1065968]\n\tOrdinal0 [0x00A287C2+1017794]\n\tOrdinal0 [0x00A28FF8+1019896]\n\tOrdinal0 [0x00A2A892+1026194]\n\tOrdinal0 [0x00A24219+999961]\n\tOrdinal0 [0x00A35860+1071200]\n\tOrdinal0 [0x00A8B2D2+1422034]\n\tOrdinal0 [0x00A7B806+1357830]\n\tOrdinal0 [0x00A56086+1204358]\n\tOrdinal0 [0x00A56F96+1208214]\n\tGetHandleVerifier [0x00D4B232+1658114]\n\tGetHandleVerifier [0x00E0312C+2411516]\n\tGetHandleVerifier [0x00C3F261+560433]\n\tGetHandleVerifier [0x00C3E366+556598]\n\tOrdinal0 [0x00B4286B+2173035]\n\tOrdinal0 [0x00B475F8+2192888]\n\tOrdinal0 [0x00B476E5+2193125]\n\tOrdinal0 [0x00B511FC+2232828]\n\tBaseThreadInitThunk [0x766AFA29+25]\n\tRtlGetAppContainerNamedObjectPath [0x772E7A9E+286]\n\tRtlGetAppContainerNamedObjectPath [0x772E7A6E+238]\n"
     ]
    }
   ],
   "source": [
    "\n",
    "# creating empty list \n",
    "name = []\n",
    "price = []\n",
    "product= []\n",
    "expected = []\n",
    "\n",
    "\n",
    "for i in laptop_url[0:]:\n",
    "    driver.get(i)\n",
    "    time.sleep(3)\n",
    "    \n",
    "    try:\n",
    "        detail = driver.find_element_by_xpath('/html/body/div[2]/div[2]/div[5]/div[4]/div[4]/div[1]/div/h1/span')\n",
    "        name.append(detail.text)\n",
    "    except NoSuchElementException :\n",
    "        name.append(\"--\")\n",
    "        \n",
    "    try:\n",
    "        detail = driver.find_element_by_xpath('/html/body/div[2]/div[2]/div[5]/div[4]/div[4]/div[1]/div/h1/span')\n",
    "        product.append(detail.text)\n",
    "    except NoSuchElementException :\n",
    "        product.append(\"--\")\n",
    "        \n",
    "    try:\n",
    "        detail = driver.find_element_by_xpath('/html/body/div[2]/div[2]/div[5]/div[4]/div[4]/div[10]/div/div[1]/div[1]/div/table/tbody/tr[2]/td[2]/span[1]/span[1]')\n",
    "        price.append(detail.text)\n",
    "    except NoSuchElementException :\n",
    "        price.append(\"-\")\n",
    "        \n",
    "    try:\n",
    "        detail = driver.find_element_by_xpath('/html/body/div[2]/div[2]/div[5]/div[4]/div[1]/div[3]/div/div/div[1]/div/div/div[1]/div/div[2]/div[8]/div[1]/div/div/div[1]/b')\n",
    "        expected.append(detail.text)\n",
    "    except NoSuchElementException :\n",
    "        expected.append(\"--\")"
   ]
  },
  {
   "cell_type": "code",
   "execution_count": 230,
   "id": "341519e7",
   "metadata": {},
   "outputs": [
    {
     "data": {
      "text/html": [
       "<div>\n",
       "<style scoped>\n",
       "    .dataframe tbody tr th:only-of-type {\n",
       "        vertical-align: middle;\n",
       "    }\n",
       "\n",
       "    .dataframe tbody tr th {\n",
       "        vertical-align: top;\n",
       "    }\n",
       "\n",
       "    .dataframe thead th {\n",
       "        text-align: right;\n",
       "    }\n",
       "</style>\n",
       "<table border=\"1\" class=\"dataframe\">\n",
       "  <thead>\n",
       "    <tr style=\"text-align: right;\">\n",
       "      <th></th>\n",
       "      <th>BRAND NAME</th>\n",
       "      <th>product</th>\n",
       "      <th>price</th>\n",
       "      <th>Expected delivery</th>\n",
       "    </tr>\n",
       "  </thead>\n",
       "  <tbody>\n",
       "    <tr>\n",
       "      <th>0</th>\n",
       "      <td>--</td>\n",
       "      <td>--</td>\n",
       "      <td>-</td>\n",
       "      <td>--</td>\n",
       "    </tr>\n",
       "    <tr>\n",
       "      <th>1</th>\n",
       "      <td>--</td>\n",
       "      <td>--</td>\n",
       "      <td>-</td>\n",
       "      <td>--</td>\n",
       "    </tr>\n",
       "    <tr>\n",
       "      <th>2</th>\n",
       "      <td>--</td>\n",
       "      <td>--</td>\n",
       "      <td>-</td>\n",
       "      <td>--</td>\n",
       "    </tr>\n",
       "    <tr>\n",
       "      <th>3</th>\n",
       "      <td>--</td>\n",
       "      <td>--</td>\n",
       "      <td>-</td>\n",
       "      <td>--</td>\n",
       "    </tr>\n",
       "    <tr>\n",
       "      <th>4</th>\n",
       "      <td>--</td>\n",
       "      <td>--</td>\n",
       "      <td>-</td>\n",
       "      <td>--</td>\n",
       "    </tr>\n",
       "    <tr>\n",
       "      <th>5</th>\n",
       "      <td>--</td>\n",
       "      <td>--</td>\n",
       "      <td>-</td>\n",
       "      <td>--</td>\n",
       "    </tr>\n",
       "    <tr>\n",
       "      <th>6</th>\n",
       "      <td>--</td>\n",
       "      <td>--</td>\n",
       "      <td>-</td>\n",
       "      <td>--</td>\n",
       "    </tr>\n",
       "    <tr>\n",
       "      <th>7</th>\n",
       "      <td>--</td>\n",
       "      <td>--</td>\n",
       "      <td>-</td>\n",
       "      <td>--</td>\n",
       "    </tr>\n",
       "    <tr>\n",
       "      <th>8</th>\n",
       "      <td>--</td>\n",
       "      <td>--</td>\n",
       "      <td>-</td>\n",
       "      <td>--</td>\n",
       "    </tr>\n",
       "    <tr>\n",
       "      <th>9</th>\n",
       "      <td>--</td>\n",
       "      <td>--</td>\n",
       "      <td>-</td>\n",
       "      <td>--</td>\n",
       "    </tr>\n",
       "  </tbody>\n",
       "</table>\n",
       "</div>"
      ],
      "text/plain": [
       "  BRAND NAME product price Expected delivery\n",
       "0         --      --     -                --\n",
       "1         --      --     -                --\n",
       "2         --      --     -                --\n",
       "3         --      --     -                --\n",
       "4         --      --     -                --\n",
       "5         --      --     -                --\n",
       "6         --      --     -                --\n",
       "7         --      --     -                --\n",
       "8         --      --     -                --\n",
       "9         --      --     -                --"
      ]
     },
     "execution_count": 230,
     "metadata": {},
     "output_type": "execute_result"
    }
   ],
   "source": [
    "#Combining all the lists into a single dataframe\n",
    "df=pd.DataFrame({'BRAND NAME' : name,\n",
    "                 'product' : product,\n",
    "                 'price' : price,\n",
    "                 'Expected delivery': expected})\n",
    "df"
   ]
  },
  {
   "cell_type": "code",
   "execution_count": null,
   "id": "d8de50ab",
   "metadata": {},
   "outputs": [],
   "source": []
  },
  {
   "cell_type": "code",
   "execution_count": null,
   "id": "8bb46007",
   "metadata": {},
   "outputs": [],
   "source": []
  },
  {
   "cell_type": "code",
   "execution_count": null,
   "id": "475e51e2",
   "metadata": {},
   "outputs": [],
   "source": []
  },
  {
   "cell_type": "code",
   "execution_count": null,
   "id": "536f3687",
   "metadata": {},
   "outputs": [],
   "source": []
  },
  {
   "cell_type": "code",
   "execution_count": null,
   "id": "61880943",
   "metadata": {},
   "outputs": [],
   "source": []
  },
  {
   "cell_type": "code",
   "execution_count": null,
   "id": "d05053c9",
   "metadata": {},
   "outputs": [],
   "source": []
  },
  {
   "cell_type": "code",
   "execution_count": null,
   "id": "483a6e36",
   "metadata": {},
   "outputs": [],
   "source": []
  },
  {
   "cell_type": "markdown",
   "id": "4cc017d8",
   "metadata": {},
   "source": [
    "7. Write a program to scrap all the available details of best gaming laptops from digit.in."
   ]
  },
  {
   "cell_type": "code",
   "execution_count": null,
   "id": "17a98337",
   "metadata": {},
   "outputs": [],
   "source": [
    "url=\"https://www.digit.in/\"\n",
    "driver.get(url)\n",
    "\n",
    "time.sleep(3)\n",
    "\n",
    "# maximize window\n",
    "driver.maximize_window()"
   ]
  },
  {
   "cell_type": "code",
   "execution_count": null,
   "id": "1eedac05",
   "metadata": {},
   "outputs": [],
   "source": [
    "laptop = driver.find_element_by_xpath('/html/body/div[1]/div/div[4]/ul/li[3]/a')\n",
    "laptop\n",
    "laptop.click()"
   ]
  },
  {
   "cell_type": "code",
   "execution_count": null,
   "id": "4f1e6062",
   "metadata": {},
   "outputs": [],
   "source": [
    "gaming_laptop = driver.find_element_by_xpath('/html/body/div[6]/div/div[2]/div[2]/ul/li[10]/a')\n",
    "gaming_laptop\n",
    "gaming_laptop.click()"
   ]
  },
  {
   "cell_type": "code",
   "execution_count": null,
   "id": "6210f2e1",
   "metadata": {},
   "outputs": [],
   "source": [
    "# fetching url for each product\n",
    "laptop_url = []\n",
    "url = driver.find_elements_by_xpath('//span[@class=\"datahreflink spec\"]')\n",
    "for i in url:\n",
    "    laptop_url.append(i.get_attribute('data-href'))"
   ]
  },
  {
   "cell_type": "code",
   "execution_count": null,
   "id": "f076373c",
   "metadata": {},
   "outputs": [],
   "source": [
    "len(laptop_url)"
   ]
  },
  {
   "cell_type": "code",
   "execution_count": null,
   "id": "3562daa2",
   "metadata": {},
   "outputs": [],
   "source": [
    "laptop_url\n"
   ]
  },
  {
   "cell_type": "code",
   "execution_count": null,
   "id": "44df5278",
   "metadata": {},
   "outputs": [],
   "source": [
    "# creating empty list \n",
    "lname = []\n",
    "ld = []\n",
    "proc = []\n",
    "memory = []\n",
    "os = []\n",
    "display = []\n",
    "\n",
    "for i in laptop_url[0:]:\n",
    "    driver.get(i)\n",
    "    time.sleep(5)\n",
    "    \n",
    "    try:\n",
    "        detail = driver.find_element_by_xpath('/html/body/div[3]/div[2]/div[2]/h1')\n",
    "        lname.append(detail.text)\n",
    "    except NoSuchElementException :\n",
    "        lname.append(\"--\")\n",
    "    \n",
    "    try:\n",
    "        detail = driver.find_element_by_xpath('//div[@class=\"para_container\"]')\n",
    "        ld.append(detail.text)\n",
    "    except NoSuchElementException :\n",
    "        ld.append(\"NO DESCRIPTION\")\n",
    "    \n",
    "    try:\n",
    "        detail = driver.find_element_by_xpath('/html/body/div[3]/div[2]/div[3]/div[3]/div[3]/div/ul/li[4]/div/p[2]/strong')\n",
    "        memory.append(detail.text)\n",
    "    except NoSuchElementException :\n",
    "        memory.append(\"--\")\n",
    "        \n",
    "    try:\n",
    "        detail = driver.find_element_by_xpath('/html/body/div[3]/div[2]/div[3]/div[3]/div[3]/div/ul/li[3]/div/p[2]/strong')\n",
    "        proc.append(detail.text)\n",
    "    except NoSuchElementException :\n",
    "        proc.append(\"--\")\n",
    "        \n",
    "    try:\n",
    "        detail = driver.find_element_by_xpath('/html/body/div[3]/div[2]/div[3]/div[3]/div[3]/div/ul/li[1]/div/p[2]/strong')\n",
    "        os.append(detail.text)\n",
    "    except NoSuchElementException :\n",
    "        os.append(\"--\")\n",
    "        \n",
    "    try:\n",
    "        detail = driver.find_element_by_xpath('/html/body/div[3]/div[2]/div[3]/div[3]/div[3]/div/ul/li[2]/div/p[2]/strong')\n",
    "        display.append(detail.text)\n",
    "    except NoSuchElementException :\n",
    "        display.append(\"--\")"
   ]
  },
  {
   "cell_type": "code",
   "execution_count": null,
   "id": "8c6dd026",
   "metadata": {},
   "outputs": [],
   "source": [
    "#Combining all the lists into a single dataframe\n",
    "df=pd.DataFrame({'BRAND NAME': lname,\n",
    "                'OS': os,\n",
    "                 'PROCESSOR' : proc,\n",
    "                 'DISPLAY' : display,\n",
    "                 'MEMORY' : memory,\n",
    "               'Full DESCRIPTION': ld})\n",
    "df"
   ]
  },
  {
   "cell_type": "code",
   "execution_count": null,
   "id": "856691f8",
   "metadata": {},
   "outputs": [],
   "source": []
  },
  {
   "cell_type": "markdown",
   "id": "f56c4dc7",
   "metadata": {},
   "source": [
    "8. Write a python program to scrape the details for all billionaires from www.forbes.com. Details to be scrapped: “Rank”, “Name”, “Net worth”, “Age”, “Citizenship”, “Source”, “Industry”."
   ]
  },
  {
   "cell_type": "code",
   "execution_count": null,
   "id": "016b57d8",
   "metadata": {},
   "outputs": [],
   "source": [
    "url = \"https://www.forbes.com/\"\n",
    "driver.get(url)\n",
    "\n",
    "time.sleep(3)\n",
    "\n",
    "# maximize window\n",
    "driver.maximize_window()"
   ]
  },
  {
   "cell_type": "code",
   "execution_count": null,
   "id": "58949968",
   "metadata": {},
   "outputs": [],
   "source": [
    "explore_btn = driver.find_element_by_xpath('/html/body/div[1]/header/nav/div[1]/button[1]')\n",
    "explore_btn\n",
    "explore_btn.click()"
   ]
  },
  {
   "cell_type": "code",
   "execution_count": null,
   "id": "458b6069",
   "metadata": {},
   "outputs": [],
   "source": [
    "billion_btn = driver.find_element_by_xpath('/html/body/div[1]/header/nav/div[3]/ul/li[1]/a')\n",
    "billion_btn\n",
    "billion_btn.click()"
   ]
  },
  {
   "cell_type": "code",
   "execution_count": null,
   "id": "b8a120de",
   "metadata": {},
   "outputs": [],
   "source": [
    "billionare_btn = driver.find_element_by_xpath('/html/body/div[1]/main/div/section/section[1]/div/div/div[1]/div/div[1]/div[1]/div[2]/a/h2')\n",
    "billionare_btn\n",
    "billionare_btn.click()"
   ]
  },
  {
   "cell_type": "code",
   "execution_count": null,
   "id": "1ba6b91d",
   "metadata": {},
   "outputs": [],
   "source": [
    "#creating the empty list\n",
    "rank=[]\n",
    "name=[]\n",
    "networth=[] \n",
    "age=[]\n",
    "citizenship=[] \n",
    "source=[] \n",
    "industry=[]\n",
    "\n",
    "page_urls = []"
   ]
  },
  {
   "cell_type": "code",
   "execution_count": null,
   "id": "28d33946",
   "metadata": {},
   "outputs": [],
   "source": [
    "\n",
    "    ranks=driver.find_elements_by_xpath('//div[@class=\"rank\"]')#scraping rank\n",
    "    for i in ranks:\n",
    "        rank.append(i.text)\n",
    "\n",
    "    names=driver.find_elements_by_xpath('//div[@class=\"personName\"]')#scraping names\n",
    "    for i in names:\n",
    "        name.append(i.text)\n",
    "        \n",
    "    networths=driver.find_elements_by_xpath('//div[@class=\"netWorth\"]')#scraping net worth\n",
    "    for i in networths:\n",
    "        networth.append(i.text)\n",
    "        \n",
    "    ages=driver.find_elements_by_xpath('//div[@class=\"age\"]')#scraping age\n",
    "    for i in ages:\n",
    "        age.append(i.text)    \n",
    "        \n",
    "    citizen=driver.find_elements_by_xpath('//div[@class=\"countryOfCitizenship\"]')#scraping citizenship\n",
    "    for i in citizen:\n",
    "        citizenship.append(i.text)\n",
    "        \n",
    "    sources=driver.find_elements_by_xpath('//div[@class=\"source\"]')#scraping source\n",
    "    for i in sources:\n",
    "        source.append(i.text)\n",
    "        \n",
    "    industrys=driver.find_elements_by_xpath('//div[@class=\"category\"]')#scraping industry\n",
    "    for i in industrys:\n",
    "        industry.append(i.text)\n",
    "        "
   ]
  },
  {
   "cell_type": "code",
   "execution_count": null,
   "id": "2c86a13b",
   "metadata": {},
   "outputs": [],
   "source": [
    "df = pd.DataFrame({'Rank' : rank,\n",
    "                   'NAME': name,\n",
    "                 'Age': age,\n",
    "                 'Net worth' : networth,\n",
    "                 'Citizenship' : citizenship,\n",
    "                 'Source' : source,\n",
    "                 'Industry': industry})\n",
    "df "
   ]
  },
  {
   "cell_type": "code",
   "execution_count": null,
   "id": "00db8b51",
   "metadata": {},
   "outputs": [],
   "source": []
  },
  {
   "cell_type": "markdown",
   "id": "7c468fcd",
   "metadata": {},
   "source": [
    "9. Write a program to extract at least 500 Comments, Comment upvote and time when comment was posted from any YouTube Video."
   ]
  },
  {
   "cell_type": "code",
   "execution_count": null,
   "id": "e683ca09",
   "metadata": {},
   "outputs": [],
   "source": [
    "url = \"https://www.youtube.com/\"\n",
    "driver.get(url)\n",
    "\n",
    "time.sleep(3)\n",
    "\n",
    "# maximize window\n",
    "driver.maximize_window()"
   ]
  },
  {
   "cell_type": "code",
   "execution_count": null,
   "id": "9fd7eff8",
   "metadata": {},
   "outputs": [],
   "source": [
    "search=driver.find_element_by_xpath('/html/body/ytd-app/div/div/ytd-masthead/div[3]/div[2]/ytd-searchbox/form/div[1]/div[1]/input')   # search box\n",
    "search.send_keys(\"Marvel Studios' Doctor Strange in the Multiverse of Madness | Official Trailer\")\n",
    "\n",
    "searchbtn=driver.find_element_by_xpath('/html/body/ytd-app/div/div/ytd-masthead/div[3]/div[2]/ytd-searchbox/button')\n",
    "searchbtn.click()\n",
    "\n",
    "searchclk=driver.find_element_by_xpath('/html/body/ytd-app/div/ytd-page-manager/ytd-search/div[1]/ytd-two-column-search-results-renderer/div/ytd-section-list-renderer/div[2]/ytd-item-section-renderer/div[3]/ytd-video-renderer[1]/div[1]/div/div[1]/div/h3/a')\n",
    "searchclk.click()"
   ]
  },
  {
   "cell_type": "code",
   "execution_count": null,
   "id": "2d7b3d7a",
   "metadata": {},
   "outputs": [],
   "source": [
    "comment=[]\n",
    "\n",
    "comments=driver.find_elements_by_xpath('//div[@class=\"style-scope ytd-expander\"]')   #scraping \n",
    "for i in comments:\n",
    "    comment.append(i.text)"
   ]
  },
  {
   "cell_type": "code",
   "execution_count": null,
   "id": "49c188c0",
   "metadata": {},
   "outputs": [],
   "source": [
    "time=[]\n",
    "\n",
    "times=driver.find_elements_by_xpath('//a[@class=\"yt-simple-endpoint style-scope yt-formatted-string\"]')   #scraping \n",
    "for i in times:\n",
    "    time.append(i.text)"
   ]
  },
  {
   "cell_type": "code",
   "execution_count": null,
   "id": "a67a35f7",
   "metadata": {},
   "outputs": [],
   "source": [
    "upvote=[]\n",
    "\n",
    "likes=driver.find_elements_by_xpath('//span[@id=\"vote-count-middle\"]')   #scraping \n",
    "for i in likes:\n",
    "    upvote.append(i.text)\n"
   ]
  },
  {
   "cell_type": "code",
   "execution_count": null,
   "id": "219ac7c5",
   "metadata": {},
   "outputs": [],
   "source": [
    "df = pd.DataFrame({'comment' : comment,\n",
    "                   'At time': time,\n",
    "                 'upvote': upvote})\n",
    "df "
   ]
  },
  {
   "cell_type": "code",
   "execution_count": null,
   "id": "9f72cbed",
   "metadata": {},
   "outputs": [],
   "source": []
  },
  {
   "cell_type": "code",
   "execution_count": null,
   "id": "991f7742",
   "metadata": {},
   "outputs": [],
   "source": []
  },
  {
   "cell_type": "markdown",
   "id": "bd206ef4",
   "metadata": {},
   "source": [
    "10. Write a python program to scrape a data for all available Hostels from https://www.hostelworld.com/ in “London” location. You have to scrape hostel name, distance from city centre, ratings, total reviews, overall reviews, privates from price, dorms from price, facilities and property description."
   ]
  },
  {
   "cell_type": "code",
   "execution_count": null,
   "id": "eae89e16",
   "metadata": {},
   "outputs": [],
   "source": []
  },
  {
   "cell_type": "code",
   "execution_count": null,
   "id": "cef3c671",
   "metadata": {},
   "outputs": [],
   "source": [
    "url = \"https://www.hostelworld.com/\"\n",
    "driver.get(url)\n",
    "\n",
    "time.sleep(3)\n"
   ]
  },
  {
   "cell_type": "code",
   "execution_count": null,
   "id": "67477286",
   "metadata": {},
   "outputs": [],
   "source": [
    "# typing london in search box\n",
    "search = driver.find_element_by_xpath('/html/body/div[3]/div/div/div[1]/div[2]/div[1]/div/div/div[1]/wds-search-form-double-l/wds-search-input/div/div/input')\n",
    "search \n",
    "search.send_keys(\"london\")\n",
    "time.sleep(3)\n",
    "\n",
    "search_clk = driver.find_element_by_xpath('/html/body/div[3]/div/div/div[1]/div[2]/div[1]/div/div/div[1]/div/wds-search-dropdown/wds-search-list/wds-search-item[1]/div[2]')\n",
    "search_clk\n",
    "search_clk.click()\n",
    "\n",
    "\n",
    "\n",
    "# pressing lets go button\n",
    "lets_go_btn = driver.find_element_by_xpath('/html/body/div[3]/div/div/div[1]/div[2]/div[1]/div/div/div[1]/wds-search-form-double-l/div[2]/div[2]/wds-button/button')\n",
    "lets_go_btn\n",
    "lets_go_btn.click()"
   ]
  },
  {
   "cell_type": "code",
   "execution_count": null,
   "id": "31d65e5c",
   "metadata": {},
   "outputs": [],
   "source": [
    "# fetching url for each hostel\n",
    "\n",
    "hostel_url = []\n",
    "url = driver.find_elements_by_xpath('//a[@class=\"view-button\"]')\n",
    "for i in url:\n",
    "    hostel_url.append(i.get_attribute('href'))"
   ]
  },
  {
   "cell_type": "code",
   "execution_count": null,
   "id": "fbaa0f68",
   "metadata": {},
   "outputs": [],
   "source": [
    "# creating empty list \n",
    "hostelname = []\n",
    "dist= []\n",
    "rating = []\n",
    "totalreview = []\n",
    "overall = []\n",
    "facility = []\n",
    "pdesc =[]\n"
   ]
  },
  {
   "cell_type": "code",
   "execution_count": null,
   "id": "65e09c7b",
   "metadata": {},
   "outputs": [],
   "source": [
    "detaildis =driver.find_elements_by_xpath('//span[@class=\"description\"]')   #scraping \n",
    "for i in detaildis:\n",
    "    dist.append(i.text)"
   ]
  },
  {
   "cell_type": "code",
   "execution_count": null,
   "id": "f9665a7d",
   "metadata": {},
   "outputs": [],
   "source": [
    "\n",
    "for i in hostel_url[0:]:\n",
    "    driver.get(i)\n",
    "    time.sleep(5)\n",
    "    \n",
    "    try:\n",
    "        detail = driver.find_element_by_xpath('/html/body/div[3]/div/div/div[1]/section/div[6]/div/div[2]/div')\n",
    "        pdesc.append(detail.text)\n",
    "    except NoSuchElementException :\n",
    "        pdesc.append(\"-\")\n",
    "        \n",
    "    try:\n",
    "        detail = driver.find_element_by_xpath('/html/body/div[3]/div/div/div[1]/section/div[11]/div/ul/li[3]/ul')\n",
    "        facility.append(detail.text)\n",
    "    except NoSuchElementException :\n",
    "        facility.append(\"-\")\n",
    "        \n",
    "    try:\n",
    "        detail = driver.find_element_by_xpath('/html/body/div[3]/div/div/div[1]/section/div[4]/div/div[1]/h1/div')\n",
    "        hostelname.append(detail.text)\n",
    "    except NoSuchElementException :\n",
    "        hostelname.append(\"-\")\n",
    "        \n",
    "    try:\n",
    "        detail = driver.find_element_by_xpath('/html/body/div[3]/div/div/div[1]/section/div[6]/div/div[1]/div[1]/div[2]/div[1]')\n",
    "        overall.append(detail.text)\n",
    "    except NoSuchElementException :\n",
    "        overall.append(\"-\")\n",
    "        \n",
    "    try:\n",
    "        detail = driver.find_element_by_xpath('/html/body/div[3]/div/div/div[1]/section/div[6]/div/div[1]/div[1]/div[2]/div[2]')\n",
    "        totalreview.append(detail.text)\n",
    "    except NoSuchElementException :\n",
    "        totalreview.append(\"-\")\n",
    "    \n",
    "    try:\n",
    "        detail = driver.find_element_by_xpath('/html/body/div[3]/div/div/div[1]/section/div[6]/div/div[1]/div[1]/div[1]')\n",
    "        rating.append(detail.text)\n",
    "    except NoSuchElementException :\n",
    "        rating.append(\"-\")\n",
    "        \n",
    "    "
   ]
  },
  {
   "cell_type": "code",
   "execution_count": null,
   "id": "508ba8f7",
   "metadata": {},
   "outputs": [],
   "source": [
    "#Combining all the lists into a single dataframe\n",
    "df=pd.DataFrame({'HOSTEL NAME': hostelname,\n",
    "                'DISTANCE FROM CITY CENTRE': dist,\n",
    "                 'RATING' : rating,\n",
    "                 'TOTAL REVIEW' : totalreview,\n",
    "                 'OVERALL' : overall,\n",
    "                 'FACILITY' : facility,\n",
    "               'Full DESCRIPTION': pdesc})\n",
    "df"
   ]
  },
  {
   "cell_type": "code",
   "execution_count": null,
   "id": "664df715",
   "metadata": {},
   "outputs": [],
   "source": []
  },
  {
   "cell_type": "code",
   "execution_count": null,
   "id": "c901fdfc",
   "metadata": {},
   "outputs": [],
   "source": []
  }
 ],
 "metadata": {
  "kernelspec": {
   "display_name": "Python 3 (ipykernel)",
   "language": "python",
   "name": "python3"
  },
  "language_info": {
   "codemirror_mode": {
    "name": "ipython",
    "version": 3
   },
   "file_extension": ".py",
   "mimetype": "text/x-python",
   "name": "python",
   "nbconvert_exporter": "python",
   "pygments_lexer": "ipython3",
   "version": "3.9.7"
  }
 },
 "nbformat": 4,
 "nbformat_minor": 5
}
