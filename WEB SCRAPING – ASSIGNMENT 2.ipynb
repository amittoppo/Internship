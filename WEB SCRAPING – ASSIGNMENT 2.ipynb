{
 "cells": [
  {
   "cell_type": "code",
   "execution_count": null,
   "id": "7a3e29ec",
   "metadata": {},
   "outputs": [],
   "source": [
    "#Q1: Write a python program to scrape data for “Data Analyst” Job position in “Bangalore” location. You have to scrape the job-title, job-location, company_name, experience_required. You have to scrape first 10 jobs data.\n",
    "\n",
    "!pip install selenium"
   ]
  },
  {
   "cell_type": "code",
   "execution_count": null,
   "id": "c3f84987",
   "metadata": {},
   "outputs": [],
   "source": [
    "import selenium \n",
    "from selenium import webdriver\n",
    "import pandas as pd\n",
    "import warnings\n",
    "warnings.filterwarnings(\"ignore\")"
   ]
  },
  {
   "cell_type": "code",
   "execution_count": null,
   "id": "b6a2056e",
   "metadata": {},
   "outputs": [],
   "source": [
    "driver = webdriver.Chrome('chromedriver.exe')"
   ]
  },
  {
   "cell_type": "code",
   "execution_count": null,
   "id": "9aab4c58",
   "metadata": {},
   "outputs": [],
   "source": [
    "url = 'https://www.naukri.com/'\n",
    "driver.get(url)"
   ]
  },
  {
   "cell_type": "code",
   "execution_count": null,
   "id": "f1be2677",
   "metadata": {},
   "outputs": [],
   "source": [
    "search_job = driver.find_element_by_class_name(\"suggestor-input \")\n",
    "search_job "
   ]
  },
  {
   "cell_type": "code",
   "execution_count": null,
   "id": "98cd227a",
   "metadata": {},
   "outputs": [],
   "source": [
    "search_job.send_keys(\"Data Analyst\")"
   ]
  },
  {
   "cell_type": "code",
   "execution_count": null,
   "id": "ebb6170d",
   "metadata": {},
   "outputs": [],
   "source": [
    "search_locn = driver.find_element_by_xpath('/html/body/div/div[2]/div[3]/div/div/div[3]/div/div/div/input')\n",
    "search_locn"
   ]
  },
  {
   "cell_type": "code",
   "execution_count": null,
   "id": "c3177b75",
   "metadata": {},
   "outputs": [],
   "source": [
    "search_locn.send_keys(\"Banglore\")"
   ]
  },
  {
   "cell_type": "code",
   "execution_count": null,
   "id": "8094f9e3",
   "metadata": {},
   "outputs": [],
   "source": [
    "search_btn = driver.find_element_by_xpath('/html/body/div/div[2]/div[3]/div/div/div[6]')\n",
    "search_btn"
   ]
  },
  {
   "cell_type": "code",
   "execution_count": null,
   "id": "11d6f29b",
   "metadata": {},
   "outputs": [],
   "source": [
    "driver.maximize_window()"
   ]
  },
  {
   "cell_type": "code",
   "execution_count": null,
   "id": "4d774c15",
   "metadata": {},
   "outputs": [],
   "source": [
    "search_btn.click()"
   ]
  },
  {
   "cell_type": "code",
   "execution_count": null,
   "id": "e8c64fb4",
   "metadata": {},
   "outputs": [],
   "source": [
    "title_tags = driver.find_elements_by_xpath('//a[@class=\"title fw500 ellipsis\"]')\n",
    "len(title_tags)"
   ]
  },
  {
   "cell_type": "code",
   "execution_count": null,
   "id": "cc35045f",
   "metadata": {},
   "outputs": [],
   "source": [
    "job_titles = []\n",
    "\n",
    "for i in title_tags:\n",
    "    job_titles.append(i.text)\n",
    "len(job_titles)\n"
   ]
  },
  {
   "cell_type": "code",
   "execution_count": null,
   "id": "9fb7031f",
   "metadata": {},
   "outputs": [],
   "source": [
    "company_tags = driver.find_elements_by_xpath('//a[@class=\"subTitle ellipsis fleft\"]')\n",
    "len(company_tags)"
   ]
  },
  {
   "cell_type": "code",
   "execution_count": null,
   "id": "0ff3eff8",
   "metadata": {},
   "outputs": [],
   "source": [
    "company_names = []\n",
    "\n",
    "for i in company_tags:\n",
    "    company_names.append(i.text)\n",
    "len(company_names)\n"
   ]
  },
  {
   "cell_type": "code",
   "execution_count": null,
   "id": "b098e927",
   "metadata": {},
   "outputs": [],
   "source": [
    "exp_tags = driver.find_elements_by_xpath('//*[contains(@title,\"Yrs\")]')\n",
    "len(exp_tags)"
   ]
  },
  {
   "cell_type": "code",
   "execution_count": null,
   "id": "4b4273fa",
   "metadata": {},
   "outputs": [],
   "source": [
    "experience = []\n",
    "\n",
    "for i in exp_tags:\n",
    "    experience.append(i.text)\n",
    "len(experience)"
   ]
  },
  {
   "cell_type": "code",
   "execution_count": null,
   "id": "44937cdf",
   "metadata": {},
   "outputs": [],
   "source": [
    "job_loc = driver.find_elements_by_xpath('//li[@class=\"fleft grey-text br2 placeHolderLi location\"]')\n",
    "len(job_loc)"
   ]
  },
  {
   "cell_type": "code",
   "execution_count": null,
   "id": "91e61711",
   "metadata": {},
   "outputs": [],
   "source": [
    "location = []\n",
    "\n",
    "for i in job_loc:\n",
    "    location.append(i.text)\n",
    "len(location)"
   ]
  },
  {
   "cell_type": "code",
   "execution_count": null,
   "id": "8e09674b",
   "metadata": {},
   "outputs": [],
   "source": [
    "len(job_titles),len(company_name),len(location),len(experience)"
   ]
  },
  {
   "cell_type": "code",
   "execution_count": null,
   "id": "a277934b",
   "metadata": {},
   "outputs": [],
   "source": [
    "jobs = pd.DataFrame()\n",
    "jobs['JOB TITLE'] = job_titles\n",
    "jobs['COMPANY'] = company_name\n",
    "jobs['LOCATION'] = location\n",
    "jobs['EXPERIENCE'] = experience\n",
    "#the data for the first 10 jobs results\n",
    "jobs.head(10)"
   ]
  },
  {
   "cell_type": "code",
   "execution_count": null,
   "id": "b28e57dd",
   "metadata": {},
   "outputs": [],
   "source": []
  },
  {
   "cell_type": "code",
   "execution_count": null,
   "id": "2c20b1d8",
   "metadata": {},
   "outputs": [],
   "source": []
  },
  {
   "cell_type": "code",
   "execution_count": null,
   "id": "41c6a41e",
   "metadata": {},
   "outputs": [],
   "source": [
    "#Q2: Write a python program to scrape data for “Data Scientist” Job position in “Bangalore” location.\n"
   ]
  },
  {
   "cell_type": "code",
   "execution_count": null,
   "id": "88fb1657",
   "metadata": {},
   "outputs": [],
   "source": [
    "!pip install selenium"
   ]
  },
  {
   "cell_type": "code",
   "execution_count": null,
   "id": "cbef94ce",
   "metadata": {},
   "outputs": [],
   "source": [
    "import selenium \n",
    "from selenium import webdriver\n",
    "import pandas as pd\n",
    "import warnings\n",
    "warnings.filterwarnings(\"ignore\")"
   ]
  },
  {
   "cell_type": "code",
   "execution_count": null,
   "id": "1fd5b20c",
   "metadata": {},
   "outputs": [],
   "source": [
    "driver = webdriver.Chrome('chromedriver.exe')"
   ]
  },
  {
   "cell_type": "code",
   "execution_count": null,
   "id": "f21b4807",
   "metadata": {},
   "outputs": [],
   "source": [
    "url = 'https://www.naukri.com/'\n",
    "driver.get(url)"
   ]
  },
  {
   "cell_type": "code",
   "execution_count": null,
   "id": "85d0efb8",
   "metadata": {},
   "outputs": [],
   "source": [
    "search_job = driver.find_element_by_class_name(\"suggestor-input \")\n",
    "search_job "
   ]
  },
  {
   "cell_type": "code",
   "execution_count": null,
   "id": "1dcbd474",
   "metadata": {},
   "outputs": [],
   "source": [
    "search_job.send_keys(\"Data Scientist\")"
   ]
  },
  {
   "cell_type": "code",
   "execution_count": null,
   "id": "ee321942",
   "metadata": {},
   "outputs": [],
   "source": [
    "search_locn = driver.find_element_by_xpath('/html/body/div/div[2]/div[3]/div/div/div[3]/div/div/div/input')\n",
    "search_locn"
   ]
  },
  {
   "cell_type": "code",
   "execution_count": null,
   "id": "c66e2ceb",
   "metadata": {},
   "outputs": [],
   "source": [
    "search_locn.send_keys(\"Banglore\")"
   ]
  },
  {
   "cell_type": "code",
   "execution_count": null,
   "id": "2a6b31b0",
   "metadata": {},
   "outputs": [],
   "source": [
    "search_btn = driver.find_element_by_xpath('/html/body/div/div[2]/div[3]/div/div/div[6]')\n",
    "search_btn"
   ]
  },
  {
   "cell_type": "code",
   "execution_count": null,
   "id": "a5c2cf18",
   "metadata": {},
   "outputs": [],
   "source": [
    "driver.maximize_window()"
   ]
  },
  {
   "cell_type": "code",
   "execution_count": null,
   "id": "4a41d2e8",
   "metadata": {},
   "outputs": [],
   "source": [
    "search_btn.click()"
   ]
  },
  {
   "cell_type": "code",
   "execution_count": null,
   "id": "3925c7dd",
   "metadata": {},
   "outputs": [],
   "source": [
    "title_tags = driver.find_elements_by_xpath('//a[@class=\"title fw500 ellipsis\"]')\n",
    "len(title_tags)"
   ]
  },
  {
   "cell_type": "code",
   "execution_count": null,
   "id": "c418ae34",
   "metadata": {},
   "outputs": [],
   "source": [
    "job_titles = []\n",
    "\n",
    "for i in title_tags:\n",
    "    job_titles.append(i.text)\n",
    "len(job_titles)\n"
   ]
  },
  {
   "cell_type": "code",
   "execution_count": null,
   "id": "85dd4ad2",
   "metadata": {},
   "outputs": [],
   "source": [
    "company_tags = driver.find_elements_by_xpath('//a[@class=\"subTitle ellipsis fleft\"]')\n",
    "len(company_tags)"
   ]
  },
  {
   "cell_type": "code",
   "execution_count": null,
   "id": "dea96dfb",
   "metadata": {},
   "outputs": [],
   "source": [
    "company_names = []\n",
    "\n",
    "for i in company_tags:\n",
    "    company_names.append(i.text)\n",
    "len(company_names)\n"
   ]
  },
  {
   "cell_type": "code",
   "execution_count": null,
   "id": "ed722d3c",
   "metadata": {},
   "outputs": [],
   "source": [
    "job_loc = driver.find_elements_by_xpath('//li[@class=\"fleft grey-text br2 placeHolderLi location\"]')\n",
    "len(job_loc)"
   ]
  },
  {
   "cell_type": "code",
   "execution_count": null,
   "id": "b280b92a",
   "metadata": {},
   "outputs": [],
   "source": [
    "location = []\n",
    "\n",
    "for i in job_loc:\n",
    "    location.append(i.text)\n",
    "len(location)"
   ]
  },
  {
   "cell_type": "code",
   "execution_count": null,
   "id": "7f4ec042",
   "metadata": {},
   "outputs": [],
   "source": [
    "jobs = pd.DataFrame()\n",
    "jobs['JOB TITLE'] = job_titles\n",
    "jobs['COMPANY'] = company_name\n",
    "jobs['LOCATION'] = location\n",
    "#the data for the first 10 jobs results\n",
    "jobs.head(10)"
   ]
  },
  {
   "cell_type": "code",
   "execution_count": null,
   "id": "39fd7a24",
   "metadata": {},
   "outputs": [],
   "source": []
  },
  {
   "cell_type": "code",
   "execution_count": null,
   "id": "9d3d3766",
   "metadata": {},
   "outputs": [],
   "source": []
  },
  {
   "cell_type": "code",
   "execution_count": null,
   "id": "92778573",
   "metadata": {},
   "outputs": [],
   "source": [
    "#QUESTION 3\n"
   ]
  },
  {
   "cell_type": "code",
   "execution_count": null,
   "id": "4b8303ac",
   "metadata": {},
   "outputs": [],
   "source": [
    "!pip install selenium\n"
   ]
  },
  {
   "cell_type": "code",
   "execution_count": null,
   "id": "24c744fd",
   "metadata": {},
   "outputs": [],
   "source": [
    "import selenium \n",
    "from selenium import webdriver\n",
    "import pandas as pd\n",
    "import warnings\n",
    "warnings.filterwarnings(\"ignore\")"
   ]
  },
  {
   "cell_type": "code",
   "execution_count": null,
   "id": "85a1f401",
   "metadata": {},
   "outputs": [],
   "source": [
    "driver = webdriver.Chrome('chromedriver.exe')"
   ]
  },
  {
   "cell_type": "code",
   "execution_count": null,
   "id": "1c2489da",
   "metadata": {},
   "outputs": [],
   "source": [
    "url = 'https://www.naukri.com/'\n",
    "driver.get(url)"
   ]
  },
  {
   "cell_type": "code",
   "execution_count": null,
   "id": "57749699",
   "metadata": {},
   "outputs": [],
   "source": [
    "search_job = driver.find_element_by_class_name(\"suggestor-input \")\n",
    "search_job "
   ]
  },
  {
   "cell_type": "code",
   "execution_count": null,
   "id": "e0da3793",
   "metadata": {},
   "outputs": [],
   "source": [
    "search_job.send_keys(\"Data Scientist\")"
   ]
  },
  {
   "cell_type": "code",
   "execution_count": null,
   "id": "472c044a",
   "metadata": {},
   "outputs": [],
   "source": [
    "driver.maximize_window()"
   ]
  },
  {
   "cell_type": "code",
   "execution_count": null,
   "id": "3228f0cb",
   "metadata": {},
   "outputs": [],
   "source": [
    "search_btn = driver.find_element_by_xpath(\"/html/body/div/div[2]/div[3]/div/div/div[6]\")\n",
    "search_btn\n",
    "search_btn.click()\n"
   ]
  },
  {
   "cell_type": "code",
   "execution_count": null,
   "id": "10a14b14",
   "metadata": {},
   "outputs": [],
   "source": [
    "loc_check = driver.find_element_by_xpath('/html/body/div[1]/div[3]/div[2]/section[1]/div[2]/div[3]/div[2]/div[3]/label/i')\n",
    "loc_check\n",
    "loc_check.click()"
   ]
  },
  {
   "cell_type": "code",
   "execution_count": null,
   "id": "2d5d84d9",
   "metadata": {},
   "outputs": [],
   "source": [
    "salary_check = driver.find_element_by_xpath('/html/body/div[1]/div[3]/div[2]/section[1]/div[2]/div[4]/div[2]/div[2]/label/i')\n",
    "\n",
    "salary_check\n",
    "salary_check.click()"
   ]
  },
  {
   "cell_type": "code",
   "execution_count": null,
   "id": "a16bc914",
   "metadata": {},
   "outputs": [],
   "source": [
    "title_tags = driver.find_elements_by_xpath('//a[@class=\"title fw500 ellipsis\"]')\n",
    "len(title_tags)"
   ]
  },
  {
   "cell_type": "code",
   "execution_count": null,
   "id": "5ff7d9e3",
   "metadata": {},
   "outputs": [],
   "source": [
    "job_titles = []\n",
    "\n",
    "for i in title_tags:\n",
    "    job_titles.append(i.text)\n",
    "len(job_titles)\n"
   ]
  },
  {
   "cell_type": "code",
   "execution_count": null,
   "id": "5797f7e1",
   "metadata": {},
   "outputs": [],
   "source": [
    "company_tags = driver.find_elements_by_xpath('//a[@class=\"subTitle ellipsis fleft\"]')\n",
    "len(company_tags)"
   ]
  },
  {
   "cell_type": "code",
   "execution_count": null,
   "id": "f3a07aff",
   "metadata": {},
   "outputs": [],
   "source": [
    "company_names = []\n",
    "\n",
    "for i in company_tags:\n",
    "    company_names.append(i.text)\n",
    "len(company_names)"
   ]
  },
  {
   "cell_type": "code",
   "execution_count": null,
   "id": "c3c1fca7",
   "metadata": {},
   "outputs": [],
   "source": [
    "job_loc = driver.find_elements_by_xpath('//li[@class=\"fleft grey-text br2 placeHolderLi location\"]')\n",
    "len(job_loc)"
   ]
  },
  {
   "cell_type": "code",
   "execution_count": null,
   "id": "03d5b0b8",
   "metadata": {},
   "outputs": [],
   "source": [
    "location = []\n",
    "\n",
    "for i in job_loc:\n",
    "    location.append(i.text)\n",
    "len(location)"
   ]
  },
  {
   "cell_type": "code",
   "execution_count": null,
   "id": "71131d3f",
   "metadata": {},
   "outputs": [],
   "source": [
    "exp_tags = driver.find_elements_by_xpath('//*[contains(@title,\"Yrs\")]')\n",
    "len(exp_tags)"
   ]
  },
  {
   "cell_type": "code",
   "execution_count": null,
   "id": "b5b4a1fa",
   "metadata": {},
   "outputs": [],
   "source": [
    "experience = []\n",
    "\n",
    "for i in exp_tags:\n",
    "    experience.append(i.text)\n",
    "len(experience)"
   ]
  },
  {
   "cell_type": "code",
   "execution_count": null,
   "id": "2e3b6cfe",
   "metadata": {},
   "outputs": [],
   "source": [
    "len(job_titles),len(company_names),len(location),len(experience)"
   ]
  },
  {
   "cell_type": "code",
   "execution_count": null,
   "id": "587c09b9",
   "metadata": {},
   "outputs": [],
   "source": [
    "jobs = pd.DataFrame()\n",
    "jobs['JOB TITLE'] = job_titles\n",
    "jobs['COMPANY'] = company_names\n",
    "jobs['LOCATION'] = location\n",
    "jobs['EXPERIENCE'] = experience\n",
    "#the data for the first 10 jobs results\n",
    "jobs.head(10)"
   ]
  },
  {
   "cell_type": "code",
   "execution_count": null,
   "id": "cd7c199e",
   "metadata": {},
   "outputs": [],
   "source": []
  },
  {
   "cell_type": "code",
   "execution_count": null,
   "id": "9f9fc268",
   "metadata": {},
   "outputs": [],
   "source": []
  },
  {
   "cell_type": "code",
   "execution_count": null,
   "id": "3986c2de",
   "metadata": {},
   "outputs": [],
   "source": [
    "#QUESTION 4\n",
    "#Scrape data of first 100 sunglasses listings on flipkart.com."
   ]
  },
  {
   "cell_type": "code",
   "execution_count": null,
   "id": "2748ccb2",
   "metadata": {},
   "outputs": [],
   "source": [
    "!pip install selenium\n",
    "import selenium \n",
    "from selenium import webdriver\n",
    "import pandas as pd\n",
    "import warnings\n",
    "warnings.filterwarnings(\"ignore\")\n",
    "\n",
    "driver = webdriver.Chrome('chromedriver.exe')\n",
    "\n",
    "url = 'https://www.flipkart.com/'\n",
    "driver.get(url)\n",
    "driver.maximize_window()\n",
    "\n",
    "cancel_login = driver.find_element_by_xpath(\"/html/body/div[2]/div/div/button\")\n",
    "cancel_login\n",
    "cancel_login.click()\n",
    "\n",
    "search_box = driver.find_element_by_class_name(\"_3704LK\")\n",
    "search_box \n",
    "\n",
    "search_box.send_keys(\"sunglasses\")\n",
    "\n",
    "search_btn = driver.find_element_by_class_name(\"L0Z3Pu\")\n",
    "search_btn\n",
    "search_btn.click()\n",
    "\n",
    "title_tags = driver.find_elements_by_xpath('//div[@class=\"_2WkVRV\"]')\n",
    "len(title_tags)\n",
    "\n",
    "product_titles = []\n",
    "\n",
    "for i in title_tags:\n",
    "    product_titles.append(i.text)\n",
    "len(product_titles)\n",
    "\n",
    "detail_tags = driver.find_elements_by_xpath('//a[@class=\"IRpwTa\"]')\n",
    "len(detail_tags)\n",
    "\n",
    "product_detail = []\n",
    "\n",
    "for i in detail_tags:\n",
    "    product_detail.append(i.text)\n",
    "len(product_detail)\n",
    "\n",
    "price_tags = driver.find_elements_by_xpath('//div[@class=\"_30jeq3\"]')\n",
    "len(price_tags)\n",
    "\n",
    "product_price = []\n",
    "\n",
    "for i in price_tags:\n",
    "    product_price.append(i.text)\n",
    "len(product_price)\n",
    "perc_tags = driver.find_elements_by_xpath('//div[@class=\"_3Ay6Sb\"]')\n",
    "len(perc_tags)\n",
    "\n",
    "discount = []\n",
    "\n",
    "for i in perc_tags:\n",
    "    discount.append(i.text)\n",
    "len(discount)\n",
    "\n",
    "nxt_btn = driver.find_element_by_xpath('/html/body/div/div/div[3]/div[1]/div[2]/div[12]/div/div/nav/a[11]')\n",
    "nxt_btn\n",
    "nxt_btn.click()\n",
    "\n",
    "title_tags2 = driver.find_elements_by_xpath('//div[@class=\"_2WkVRV\"]')\n",
    "len(title_tags2)\n",
    "\n",
    "jobs = pd.DataFrame()\n",
    "jobs['product'] = product_titles\n",
    "jobs['detail'] = product_detail\n",
    "jobs['price'] = product_price\n",
    "jobs['discount'] = discount\n",
    "\n",
    "jobs"
   ]
  },
  {
   "cell_type": "code",
   "execution_count": null,
   "id": "b7cd905a",
   "metadata": {},
   "outputs": [],
   "source": []
  },
  {
   "cell_type": "code",
   "execution_count": null,
   "id": "34f02f01",
   "metadata": {},
   "outputs": [],
   "source": [
    "##QUESTION 5"
   ]
  },
  {
   "cell_type": "code",
   "execution_count": null,
   "id": "7207f634",
   "metadata": {},
   "outputs": [],
   "source": [
    "!pip install selenium\n",
    "import selenium \n",
    "from selenium import webdriver\n",
    "import pandas as pd\n",
    "import warnings\n",
    "warnings.filterwarnings(\"ignore\")\n",
    "\n",
    "driver = webdriver.Chrome('chromedriver.exe')\n",
    "url = 'https://www.flipkart.com/apple-iphone-11-black-64-gb-includes-earpods-power-adapter/p/itm0f37c2240b217?pid=MOBFKCTSVZAXUHGR&lid=LSTMOBFKC'\n",
    "driver.get(url)\n",
    "driver.maximize_window()\n",
    "review_btn = driver.find_element_by_xpath(\"/html/body/div[1]/div/div[3]/div[1]/div[2]/div[8]/div/div/div[5]/div/a/div\")\n",
    "review_btn \n",
    "review_btn.click()\n",
    "rating = driver.find_elements_by_xpath('//div[@class=\"_3LWZlK _1BLPMq\"]')\n",
    "len(rating)\n",
    "\n",
    "product_rating = []\n",
    "\n",
    "for i in rating:\n",
    "    product_rating.append(i.text)\n",
    "len(product_rating)\n",
    "\n",
    "summ = driver.find_elements_by_xpath('//p[@class=\"_2-N8zT\"]')\n",
    "len(summ)\n",
    "summary = []\n",
    "\n",
    "for i in summ:\n",
    "    summary.append(i.text)\n",
    "len(summary)\n",
    "\n",
    "detail = driver.find_elements_by_xpath('//div[@class=\"t-ZTKy\"]')\n",
    "len(detail)\n",
    "full_rev = []\n",
    "\n",
    "for i in detail:\n",
    "    full_rev.append(i.text)\n",
    "reviews = pd.DataFrame()\n",
    "\n",
    "reviews['RATING'] = product_rating\n",
    "reviews['REVIEW SUMMARY'] = summary\n",
    "reviews['FULL REVIEW'] = full_rev\n",
    "\n",
    "reviews"
   ]
  },
  {
   "cell_type": "code",
   "execution_count": null,
   "id": "14ebcf95",
   "metadata": {},
   "outputs": [],
   "source": []
  },
  {
   "cell_type": "code",
   "execution_count": null,
   "id": "1207a3a2",
   "metadata": {},
   "outputs": [],
   "source": [
    "##QUESTION 6"
   ]
  },
  {
   "cell_type": "code",
   "execution_count": null,
   "id": "b426e9b5",
   "metadata": {},
   "outputs": [],
   "source": [
    "!pip install selenium\n",
    "import selenium \n",
    "from selenium import webdriver\n",
    "import pandas as pd\n",
    "import warnings\n",
    "warnings.filterwarnings(\"ignore\")\n",
    "\n",
    "driver = webdriver.Chrome('chromedriver.exe')\n",
    "\n",
    "url = 'https://www.flipkart.com'\n",
    "driver.get(url)\n",
    "driver.maximize_window()\n",
    "\n",
    "cancel_login = driver.find_element_by_xpath(\"/html/body/div[2]/div/div/button\")\n",
    "cancel_login\n",
    "cancel_login.click()\n",
    "\n",
    "search_box = driver.find_element_by_class_name(\"_3704LK\")\n",
    "search_box \n",
    "\n",
    "search_box.send_keys(\"sneakers\")\n",
    "search_btn = driver.find_element_by_class_name(\"L0Z3Pu\")\n",
    "search_btn\n",
    "search_btn.click()\n",
    "\n",
    "title_tags = driver.find_elements_by_xpath('//div[@class=\"_2WkVRV\"]')\n",
    "len(title_tags)\n",
    "\n",
    "brand = []\n",
    "\n",
    "for i in title_tags:\n",
    "    brand.append(i.text)\n",
    "len(brand)\n",
    "\n",
    "desc = driver.find_elements_by_xpath('//a[@class=\"IRpwTa\"]')\n",
    "len(desc)\n",
    "descr = driver.find_elements_by_xpath('//a[@class=\"IRpwTa _2-ICcC\"]')\n",
    "\n",
    "describe = []\n",
    "\n",
    "for i in desc:\n",
    "    describe.append(i.text)\n",
    "for i in descr:\n",
    "    describe.append(i.text)\n",
    "    \n",
    "len(describe)\n",
    "\n",
    "\n",
    "pric_tag = driver.find_elements_by_xpath('//div[@class=\"_30jeq3\"]')\n",
    "\n",
    "price = []\n",
    "\n",
    "for i in pric_tag:\n",
    "    price.append(i.text)\n",
    "len(price)\n",
    "\n",
    "disc = driver.find_elements_by_xpath('//div[@class=\"_3Ay6Sb\"]')\n",
    "\n",
    "discount = []\n",
    "\n",
    "for i in disc:\n",
    "    discount.append(i.text)\n",
    "len(discount)\n",
    "\n",
    "next_btn = driver.find_element_by_xpath('/html/body/div[1]/div/div[3]/div[1]/div[2]/div[12]/div/div/nav/a[11]/span')\n",
    "next_btn\n",
    "next_btn.click()\n",
    "\n",
    "title_tags2 = driver.find_elements_by_xpath('//div[@class=\"_2WkVRV\"]')\n",
    "len(title_tags2)\n",
    "\n",
    "for i in title_tags2:\n",
    "    brand.append(i.text)\n",
    "len(brand)\n",
    "\n",
    "desc2 = driver.find_elements_by_xpath('//a[@class=\"IRpwTa\"]')\n",
    "descr2 = driver.find_elements_by_xpath('//a[@class=\"IRpwTa _2-ICcC\"]')\n",
    "for i in desc2:\n",
    "    describe.append(i.text)\n",
    "for i in descr2:\n",
    "    describe.append(i.text)\n",
    "len(describe)\n",
    "\n",
    "pric_tag2 = driver.find_elements_by_xpath('//div[@class=\"_30jeq3\"]')\n",
    "for i in pric_tag2:\n",
    "    price.append(i.text)\n",
    "len(price)\n",
    "\n",
    "disc2 = driver.find_elements_by_xpath('//div[@class=\"_3Ay6Sb\"]')\n",
    "\n",
    "for i in disc2:\n",
    "    discount.append(i.text)\n",
    "len(discount)\n",
    "\n",
    "next_btn = driver.find_element_by_xpath('/html/body/div[1]/div/div[3]/div[1]/div[2]/div[12]/div/div/nav/a[12]')\n",
    "next_btn\n",
    "next_btn.click()\n",
    "\n",
    "title_tags3 = driver.find_elements_by_xpath('//div[@class=\"_2WkVRV\"]')\n",
    "len(title_tags3)\n",
    "\n",
    "for i in title_tags3:\n",
    "    brand.append(i.text)\n",
    "len(brand)\n",
    "\n",
    "\n",
    "desc3 = driver.find_elements_by_xpath('//a[@class=\"IRpwTa\"]')\n",
    "descr3 = driver.find_elements_by_xpath('//a[@class=\"IRpwTa _2-ICcC\"]')\n",
    "for i in desc3:\n",
    "    describe.append(i.text)\n",
    "for i in descr3:\n",
    "    describe.append(i.text)\n",
    "len(describe)\n",
    "\n",
    "pric_tag3 = driver.find_elements_by_xpath('//div[@class=\"_30jeq3\"]')\n",
    "for i in pric_tag3:\n",
    "    price.append(i.text)\n",
    "len(price)\n",
    "\n",
    "disc3 = driver.find_elements_by_xpath('//div[@class=\"_3Ay6Sb\"]')\n",
    "\n",
    "for i in disc3:\n",
    "    discount.append(i.text)\n",
    "len(discount)\n",
    "\n",
    "\n",
    "sneaker = pd.DataFrame()\n",
    "\n",
    "sneaker['BRAND'] = brand\n",
    "sneaker['PRICE'] = price\n",
    "sneaker['discount'] = discount\n",
    "sneaker['Discription'] = describe\n",
    "\n",
    "sneaker.head(100)\n",
    "\n"
   ]
  },
  {
   "cell_type": "code",
   "execution_count": null,
   "id": "c53d6493",
   "metadata": {},
   "outputs": [],
   "source": []
  },
  {
   "cell_type": "code",
   "execution_count": null,
   "id": "8a57dd16",
   "metadata": {},
   "outputs": [],
   "source": [
    "##QUESTION 7\n"
   ]
  },
  {
   "cell_type": "code",
   "execution_count": null,
   "id": "a49919fb",
   "metadata": {},
   "outputs": [],
   "source": [
    "!pip install selenium\n",
    "import selenium \n",
    "from selenium import webdriver\n",
    "import pandas as pd\n",
    "import warnings\n",
    "warnings.filterwarnings(\"ignore\")\n",
    "\n",
    "driver = webdriver.Chrome('chromedriver.exe')\n",
    "\n",
    "url = 'https://www.myntra.com/shoes'\n",
    "driver.get(url)\n",
    "driver.maximize_window()\n",
    "\n",
    "pr_filter = driver.find_element_by_xpath('/html/body/div[2]/div/div[1]/main/div[3]/div[1]/section/div/div[5]/ul/li[2]/label/div')\n",
    "pr_filter\n",
    "pr_filter.click()\n",
    "\n",
    "color = driver.find_element_by_xpath('/html/body/div[2]/div/div[1]/main/div[3]/div[1]/section/div/div[6]/ul/li[1]/label/div')\n",
    "\n",
    "color.click()\n",
    "\n",
    "product_tags = driver.find_elements_by_xpath('//h3[@class=\"product-brand\"]')\n",
    "len(product_tags)\n",
    "\n",
    "product_titles = []\n",
    "\n",
    "for i in product_tags:\n",
    "    product_titles.append(i.text)\n",
    "len(product_titles)\n",
    "\n",
    "product_desc = driver.find_elements_by_xpath('//h4[@class=\"product-product\"]')\n",
    "\n",
    "description = []\n",
    "\n",
    "for i in product_desc:\n",
    "    description.append(i.text)\n",
    "len(description)\n",
    "\n",
    "pri = driver.find_elements_by_xpath('//div[@class=\"product-price\"]')\n",
    "\n",
    "price= []\n",
    "\n",
    "for i in pri:\n",
    "    price.append(i.text)\n",
    "len(price)\n",
    "\n",
    "next_page = driver.find_element_by_xpath('/html/body/div[2]/div/div[1]/main/div[3]/div[2]/div/div[2]/section/div[2]/ul/li[12]/a')\n",
    "next_page\n",
    "next_page.click()\n",
    "\n",
    "product_tags2 = driver.find_elements_by_xpath('//h3[@class=\"product-brand\"]')\n",
    "\n",
    "for i in product_tags2:\n",
    "    product_titles.append(i.text)\n",
    "len(product_titles)\n",
    "\n",
    "product_desc2 = driver.find_elements_by_xpath('//h4[@class=\"product-product\"]')\n",
    "for i in product_desc2:\n",
    "    description.append(i.text)\n",
    "len(description)\n",
    "\n",
    "pri2 = driver.find_elements_by_xpath('//div[@class=\"product-price\"]')\n",
    "for i in pri2:\n",
    "    price.append(i.text)\n",
    "len(price)\n",
    "\n",
    "shoes = pd.DataFrame()\n",
    "shoes['product'] = product_titles\n",
    "shoes['detail'] = description\n",
    "shoes['price'] = price\n",
    "\n"
   ]
  },
  {
   "cell_type": "code",
   "execution_count": null,
   "id": "4316871d",
   "metadata": {},
   "outputs": [],
   "source": []
  },
  {
   "cell_type": "code",
   "execution_count": null,
   "id": "6ab0865e",
   "metadata": {},
   "outputs": [],
   "source": [
    "#QUESTION 8\n"
   ]
  },
  {
   "cell_type": "code",
   "execution_count": null,
   "id": "6b537e5c",
   "metadata": {},
   "outputs": [],
   "source": [
    "!pip install selenium\n",
    "import selenium \n",
    "from selenium import webdriver\n",
    "import pandas as pd\n",
    "import warnings\n",
    "warnings.filterwarnings(\"ignore\")\n",
    "\n",
    "driver = webdriver.Chrome('chromedriver.exe')\n",
    "\n",
    "url = 'https://www.amazon.in/'\n",
    "driver.get(url)\n",
    "driver.maximize_window()"
   ]
  },
  {
   "cell_type": "code",
   "execution_count": null,
   "id": "474c282b",
   "metadata": {},
   "outputs": [],
   "source": [
    "search = driver.find_element_by_xpath('/html/body/div[1]/header/div/div[1]/div[2]/div/form/div[2]/div[1]/input')\n",
    "search \n",
    "search.send_keys(\"Laptop\")\n",
    "search_btn = driver.find_element_by_xpath('/html/body/div[1]/header/div/div[1]/div[2]/div/form/div[3]/div/span/input')\n",
    "search_btn.click()"
   ]
  },
  {
   "cell_type": "code",
   "execution_count": null,
   "id": "3041d057",
   "metadata": {},
   "outputs": [],
   "source": [
    "i9_filter = driver.find_element_by_xpath('/html/body/div[1]/div[2]/div[1]/div[2]/div/div[3]/span/div[1]/div/div/div[5]/ul[3]/li[12]/span/a/div/label/i')\n",
    "i9_filter\n",
    "i7_filter = driver.find_element_by_xpath('/html/body/div[1]/div[2]/div[1]/div[2]/div/div[3]/span/div[1]/div/div/div[5]/ul[3]/li[13]/span/a/div/label/i')\n",
    "i7_filter\n",
    "i9_filter.click()"
   ]
  },
  {
   "cell_type": "code",
   "execution_count": null,
   "id": "56896c0f",
   "metadata": {},
   "outputs": [],
   "source": [
    "p_tags = driver.find_elements_by_xpath('//h2[@class=\"a-size-mini a-spacing-none a-color-base s-line-clamp-2\"]')\n",
    "len(p_tags)\n",
    "title= []\n",
    "\n",
    "for i in p_tags:\n",
    "    title.append(i.text)\n",
    "len(title)"
   ]
  },
  {
   "cell_type": "code",
   "execution_count": null,
   "id": "8d49c488",
   "metadata": {},
   "outputs": [],
   "source": [
    "pric = driver.find_elements_by_xpath('//span[@class=\"a-price-whole\"]')\n",
    "\n",
    "price= []\n",
    "\n",
    "for i in pric:\n",
    "    price.append(i.text)\n",
    "len(price)"
   ]
  },
  {
   "cell_type": "code",
   "execution_count": null,
   "id": "14722038",
   "metadata": {},
   "outputs": [],
   "source": [
    "laptop = pd.DataFrame()\n",
    "\n",
    "laptop['detail'] = title\n",
    "laptop['price'] = price\n",
    "laptop.head(10)"
   ]
  },
  {
   "cell_type": "code",
   "execution_count": null,
   "id": "9a670b22",
   "metadata": {},
   "outputs": [],
   "source": []
  },
  {
   "cell_type": "code",
   "execution_count": null,
   "id": "1ba77b73",
   "metadata": {},
   "outputs": [],
   "source": [
    "##QUESTION 9"
   ]
  },
  {
   "cell_type": "code",
   "execution_count": null,
   "id": "0aa9a93a",
   "metadata": {},
   "outputs": [],
   "source": [
    "!pip install selenium\n",
    "import selenium \n",
    "from selenium import webdriver\n",
    "import pandas as pd\n",
    "import warnings\n",
    "warnings.filterwarnings(\"ignore\")\n",
    "\n",
    "driver = webdriver.Chrome('chromedriver.exe')\n",
    "\n",
    "url = 'https://www.ambitionbox.com/'\n",
    "driver.get(url)\n",
    "driver.maximize_window()\n",
    "\n",
    "job_btn = driver.find_element_by_xpath('/html/body/div[1]/nav/nav/a[6]')\n",
    "job_btn\n",
    "job_btn.click()\n",
    "\n",
    "search_box = driver.find_element_by_xpath('/html/body/div/div/div/div[2]/div[1]/div/div/div/div/span/input')\n",
    "search_box \n",
    "search_box.send_keys(\"Data Scientist\")\n",
    "\n",
    "search_btn = driver.find_element_by_xpath('/html/body/div/div/div/div[2]/div[1]/div/div/div/button/span')\n",
    "search_btn\n",
    "search_btn.click()\n",
    "loc_filter = driver.find_element_by_xpath('/html/body/div/div/div/div[2]/div[2]/div[1]/div/div/div/div[2]/div[1]/p')\n",
    "loc_filter\n",
    "\n",
    "loc_filter.click()\n",
    "\n",
    "search_loc = driver.find_element_by_xpath('/html/body/div/div/div/div[2]/div[2]/div[1]/div/div/div/div[2]/div[2]/div/div[2]/input')\n",
    "search_loc \n",
    "\n",
    "loc_check = driver.find_element_by_xpath('/html/body/div/div/div/div[2]/div[2]/div[1]/div/div/div/div[2]/div[2]/div/div[3]/div[1]/div[1]/div/label')\n",
    "loc_check.click()\n",
    "\n",
    "title_tags = driver.find_elements_by_xpath('//a[@class=\"title noclick\"]')\n",
    "len(title_tags)\n",
    "\n",
    "job_titles = []\n",
    "\n",
    "for i in title_tags:\n",
    "    job_titles.append(i.text)\n",
    "len(job_titles)\n",
    "\n",
    "comp_tags = driver.find_elements_by_xpath('//p[@class=\"company body-medium\"]')\n",
    "len(comp_tags)\n",
    "\n",
    "company = []\n",
    "\n",
    "for i in comp_tags:\n",
    "    company.append(i.text)\n",
    "len(company)    \n",
    "\n",
    "jobs = pd.DataFrame()\n",
    "jobs['JOB TITLE'] = job_titles\n",
    "jobs['COMPANY'] = company\n",
    "jobs"
   ]
  },
  {
   "cell_type": "code",
   "execution_count": null,
   "id": "5d1626ba",
   "metadata": {},
   "outputs": [],
   "source": []
  },
  {
   "cell_type": "code",
   "execution_count": null,
   "id": "0681a2ea",
   "metadata": {},
   "outputs": [],
   "source": [
    "##QUESTION 10"
   ]
  },
  {
   "cell_type": "code",
   "execution_count": 1,
   "id": "6c24faa5",
   "metadata": {},
   "outputs": [
    {
     "name": "stdout",
     "output_type": "stream",
     "text": [
      "Requirement already satisfied: selenium in c:\\programdata\\anaconda3\\lib\\site-packages (4.1.0)\n",
      "Requirement already satisfied: urllib3[secure]~=1.26 in c:\\programdata\\anaconda3\\lib\\site-packages (from selenium) (1.26.7)\n",
      "Requirement already satisfied: trio~=0.17 in c:\\programdata\\anaconda3\\lib\\site-packages (from selenium) (0.19.0)\n",
      "Requirement already satisfied: trio-websocket~=0.9 in c:\\programdata\\anaconda3\\lib\\site-packages (from selenium) (0.9.2)\n",
      "Requirement already satisfied: sniffio in c:\\programdata\\anaconda3\\lib\\site-packages (from trio~=0.17->selenium) (1.2.0)\n",
      "Requirement already satisfied: async-generator>=1.9 in c:\\programdata\\anaconda3\\lib\\site-packages (from trio~=0.17->selenium) (1.10)\n",
      "Requirement already satisfied: outcome in c:\\programdata\\anaconda3\\lib\\site-packages (from trio~=0.17->selenium) (1.1.0)\n",
      "Requirement already satisfied: attrs>=19.2.0 in c:\\programdata\\anaconda3\\lib\\site-packages (from trio~=0.17->selenium) (21.2.0)\n",
      "Requirement already satisfied: cffi>=1.14 in c:\\programdata\\anaconda3\\lib\\site-packages (from trio~=0.17->selenium) (1.14.6)\n",
      "Requirement already satisfied: sortedcontainers in c:\\programdata\\anaconda3\\lib\\site-packages (from trio~=0.17->selenium) (2.4.0)\n",
      "Requirement already satisfied: idna in c:\\programdata\\anaconda3\\lib\\site-packages (from trio~=0.17->selenium) (3.2)\n",
      "Requirement already satisfied: pycparser in c:\\programdata\\anaconda3\\lib\\site-packages (from cffi>=1.14->trio~=0.17->selenium) (2.20)\n",
      "Requirement already satisfied: wsproto>=0.14 in c:\\programdata\\anaconda3\\lib\\site-packages (from trio-websocket~=0.9->selenium) (1.0.0)\n",
      "Requirement already satisfied: pyOpenSSL>=0.14 in c:\\programdata\\anaconda3\\lib\\site-packages (from urllib3[secure]~=1.26->selenium) (21.0.0)\n",
      "Requirement already satisfied: cryptography>=1.3.4 in c:\\programdata\\anaconda3\\lib\\site-packages (from urllib3[secure]~=1.26->selenium) (3.4.8)\n",
      "Requirement already satisfied: certifi in c:\\programdata\\anaconda3\\lib\\site-packages (from urllib3[secure]~=1.26->selenium) (2021.10.8)\n",
      "Requirement already satisfied: six>=1.5.2 in c:\\programdata\\anaconda3\\lib\\site-packages (from pyOpenSSL>=0.14->urllib3[secure]~=1.26->selenium) (1.16.0)\n",
      "Requirement already satisfied: h11<1,>=0.9.0 in c:\\programdata\\anaconda3\\lib\\site-packages (from wsproto>=0.14->trio-websocket~=0.9->selenium) (0.13.0)\n"
     ]
    }
   ],
   "source": [
    "!pip install selenium\n",
    "import selenium \n",
    "from selenium import webdriver\n",
    "import pandas as pd\n",
    "import warnings\n",
    "warnings.filterwarnings(\"ignore\")\n",
    "\n",
    "driver = webdriver.Chrome('chromedriver.exe')\n",
    "url = 'https://www.ambitionbox.com/'\n",
    "driver.get(url)\n",
    "driver.maximize_window()"
   ]
  },
  {
   "cell_type": "code",
   "execution_count": 3,
   "id": "6ca90f69",
   "metadata": {},
   "outputs": [],
   "source": [
    "sal_btn = driver.find_element_by_xpath('/html/body/div[1]/nav/nav/a[4]')\n",
    "sal_btn\n",
    "sal_btn.click()"
   ]
  },
  {
   "cell_type": "code",
   "execution_count": 4,
   "id": "146dc96d",
   "metadata": {},
   "outputs": [],
   "source": [
    "search_job = driver.find_element_by_xpath('/html/body/div/div/div/main/section[1]/div[2]/div[1]/span/input')\n",
    "search_job \n",
    "search_job.send_keys(\"Data Scientist\")"
   ]
  },
  {
   "cell_type": "code",
   "execution_count": 5,
   "id": "d4e34f76",
   "metadata": {},
   "outputs": [],
   "source": [
    "ds_btn = driver.find_element_by_xpath('/html/body/div/div/div/main/section[1]/div[2]/div[1]/span/div/div/div[1]/div')\n",
    "ds_btn\n",
    "ds_btn.click()"
   ]
  },
  {
   "cell_type": "code",
   "execution_count": 6,
   "id": "cb837509",
   "metadata": {},
   "outputs": [
    {
     "data": {
      "text/plain": [
       "10"
      ]
     },
     "execution_count": 6,
     "metadata": {},
     "output_type": "execute_result"
    }
   ],
   "source": [
    "title_tags = driver.find_elements_by_xpath('//div[@class=\"name\"]')\n",
    "len(title_tags)\n",
    "job_titles = []\n",
    "\n",
    "for i in title_tags:\n",
    "    job_titles.append(i.text)\n",
    "len(job_titles)"
   ]
  },
  {
   "cell_type": "code",
   "execution_count": 8,
   "id": "69bfc91f",
   "metadata": {},
   "outputs": [
    {
     "data": {
      "text/plain": [
       "10"
      ]
     },
     "execution_count": 8,
     "metadata": {},
     "output_type": "execute_result"
    }
   ],
   "source": [
    "sdetail = driver.find_elements_by_xpath('//p[@class=\"averageCtc\"]')\n",
    "\n",
    "salary = []\n",
    "\n",
    "for i in sdetail:\n",
    "    salary.append(i.text)\n",
    "len(salary)\n",
    "\n"
   ]
  },
  {
   "cell_type": "code",
   "execution_count": 9,
   "id": "bb8e2d30",
   "metadata": {},
   "outputs": [
    {
     "data": {
      "text/plain": [
       "10"
      ]
     },
     "execution_count": 9,
     "metadata": {},
     "output_type": "execute_result"
    }
   ],
   "source": [
    "detail_tags = driver.find_elements_by_xpath('//div[@class=\"salaries sbold-list-header\"]')\n",
    "\n",
    "exp = []\n",
    "\n",
    "for i in detail_tags:\n",
    "    exp.append(i.text)\n",
    "len(exp)"
   ]
  },
  {
   "cell_type": "code",
   "execution_count": 11,
   "id": "6312356e",
   "metadata": {},
   "outputs": [
    {
     "data": {
      "text/html": [
       "<div>\n",
       "<style scoped>\n",
       "    .dataframe tbody tr th:only-of-type {\n",
       "        vertical-align: middle;\n",
       "    }\n",
       "\n",
       "    .dataframe tbody tr th {\n",
       "        vertical-align: top;\n",
       "    }\n",
       "\n",
       "    .dataframe thead th {\n",
       "        text-align: right;\n",
       "    }\n",
       "</style>\n",
       "<table border=\"1\" class=\"dataframe\">\n",
       "  <thead>\n",
       "    <tr style=\"text-align: right;\">\n",
       "      <th></th>\n",
       "      <th>COMPANY</th>\n",
       "      <th>SALARY</th>\n",
       "      <th>EXperiance</th>\n",
       "    </tr>\n",
       "  </thead>\n",
       "  <tbody>\n",
       "    <tr>\n",
       "      <th>0</th>\n",
       "      <td>Walmart\\nbased on 10 salaries</td>\n",
       "      <td>₹ 28.7L</td>\n",
       "      <td>Data Scientist\\n . \\n3 yrs exp</td>\n",
       "    </tr>\n",
       "    <tr>\n",
       "      <th>1</th>\n",
       "      <td>Ab Inbev\\nbased on 25 salaries</td>\n",
       "      <td>₹ 20.2L</td>\n",
       "      <td>Data Scientist\\n . \\n3-4 yrs exp</td>\n",
       "    </tr>\n",
       "    <tr>\n",
       "      <th>2</th>\n",
       "      <td>ZS\\nbased on 13 salaries</td>\n",
       "      <td>₹ 15.5L</td>\n",
       "      <td>Data Scientist\\n . \\n2 yrs exp</td>\n",
       "    </tr>\n",
       "    <tr>\n",
       "      <th>3</th>\n",
       "      <td>Optum\\nbased on 25 salaries</td>\n",
       "      <td>₹ 15.1L</td>\n",
       "      <td>Data Scientist\\n . \\n3-4 yrs exp</td>\n",
       "    </tr>\n",
       "    <tr>\n",
       "      <th>4</th>\n",
       "      <td>Fractal Analytics\\nbased on 75 salaries</td>\n",
       "      <td>₹ 15.1L</td>\n",
       "      <td>Data Scientist\\n . \\n2-4 yrs exp</td>\n",
       "    </tr>\n",
       "    <tr>\n",
       "      <th>5</th>\n",
       "      <td>Tiger Analytics\\nbased on 30 salaries</td>\n",
       "      <td>₹ 14.2L</td>\n",
       "      <td>Data Scientist\\n . \\n3-4 yrs exp</td>\n",
       "    </tr>\n",
       "    <tr>\n",
       "      <th>6</th>\n",
       "      <td>UnitedHealth\\nbased on 51 salaries</td>\n",
       "      <td>₹ 13.8L</td>\n",
       "      <td>Data Scientist\\n . \\n2-4 yrs exp</td>\n",
       "    </tr>\n",
       "    <tr>\n",
       "      <th>7</th>\n",
       "      <td>Verizon\\nbased on 14 salaries</td>\n",
       "      <td>₹ 12.7L</td>\n",
       "      <td>Data Scientist\\n . \\n4 yrs exp</td>\n",
       "    </tr>\n",
       "    <tr>\n",
       "      <th>8</th>\n",
       "      <td>Ganit Business Solutions\\nbased on 13 salaries</td>\n",
       "      <td>₹ 12.4L</td>\n",
       "      <td>Data Scientist\\n . \\n4 yrs exp</td>\n",
       "    </tr>\n",
       "    <tr>\n",
       "      <th>9</th>\n",
       "      <td>Ericsson\\nbased on 43 salaries</td>\n",
       "      <td>₹ 11.9L</td>\n",
       "      <td>Data Scientist\\n . \\n3-4 yrs exp</td>\n",
       "    </tr>\n",
       "  </tbody>\n",
       "</table>\n",
       "</div>"
      ],
      "text/plain": [
       "                                          COMPANY   SALARY  \\\n",
       "0                   Walmart\\nbased on 10 salaries  ₹ 28.7L   \n",
       "1                  Ab Inbev\\nbased on 25 salaries  ₹ 20.2L   \n",
       "2                        ZS\\nbased on 13 salaries  ₹ 15.5L   \n",
       "3                     Optum\\nbased on 25 salaries  ₹ 15.1L   \n",
       "4         Fractal Analytics\\nbased on 75 salaries  ₹ 15.1L   \n",
       "5           Tiger Analytics\\nbased on 30 salaries  ₹ 14.2L   \n",
       "6              UnitedHealth\\nbased on 51 salaries  ₹ 13.8L   \n",
       "7                   Verizon\\nbased on 14 salaries  ₹ 12.7L   \n",
       "8  Ganit Business Solutions\\nbased on 13 salaries  ₹ 12.4L   \n",
       "9                  Ericsson\\nbased on 43 salaries  ₹ 11.9L   \n",
       "\n",
       "                         EXperiance  \n",
       "0    Data Scientist\\n . \\n3 yrs exp  \n",
       "1  Data Scientist\\n . \\n3-4 yrs exp  \n",
       "2    Data Scientist\\n . \\n2 yrs exp  \n",
       "3  Data Scientist\\n . \\n3-4 yrs exp  \n",
       "4  Data Scientist\\n . \\n2-4 yrs exp  \n",
       "5  Data Scientist\\n . \\n3-4 yrs exp  \n",
       "6  Data Scientist\\n . \\n2-4 yrs exp  \n",
       "7    Data Scientist\\n . \\n4 yrs exp  \n",
       "8    Data Scientist\\n . \\n4 yrs exp  \n",
       "9  Data Scientist\\n . \\n3-4 yrs exp  "
      ]
     },
     "execution_count": 11,
     "metadata": {},
     "output_type": "execute_result"
    }
   ],
   "source": [
    "jobsal = pd.DataFrame()\n",
    "jobsal['COMPANY'] = job_titles\n",
    "jobsal['SALARY'] = salary\n",
    "jobsal['EXperiance'] = exp\n",
    "\n",
    "jobsal"
   ]
  },
  {
   "cell_type": "code",
   "execution_count": null,
   "id": "f51e56f4",
   "metadata": {},
   "outputs": [],
   "source": []
  }
 ],
 "metadata": {
  "kernelspec": {
   "display_name": "Python 3 (ipykernel)",
   "language": "python",
   "name": "python3"
  },
  "language_info": {
   "codemirror_mode": {
    "name": "ipython",
    "version": 3
   },
   "file_extension": ".py",
   "mimetype": "text/x-python",
   "name": "python",
   "nbconvert_exporter": "python",
   "pygments_lexer": "ipython3",
   "version": "3.9.7"
  }
 },
 "nbformat": 4,
 "nbformat_minor": 5
}
